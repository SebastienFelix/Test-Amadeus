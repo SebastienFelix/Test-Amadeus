{
 "cells": [
  {
   "cell_type": "code",
   "execution_count": null,
   "metadata": {
    "collapsed": true
   },
   "outputs": [],
   "source": [
    "import sys\n",
    "from pyspark import SparkContext\n",
    "\n",
    "if __name__==\"__main__\":\n",
    "    if len(sys.argv) < 2:\n",
    "        print >> sys.stderr, \"Usage: Exercise 1 <file>\"\n",
    "        exit(-1)\n",
    "        \n",
    "    sc=SparkContext()\n",
    "\n",
    "    files=sys.argv[1].split(',')\n",
    "\n",
    "    bookings=files[0]\n",
    "    searches=files[1]\n",
    "\n",
    "    data_bookings=sc.textFile(bookings)\n",
    "    data_searches=sc.textFile(searches)\n",
    "\n",
    "    N_bookings=data_bookings.count()\n",
    "    N_searches=data_searches.count()\n",
    "    \n",
    "    print(\"Nombre de lignes bookings.csv= \",N_bookings)\n",
    "    print(\"Nombre de lignes searches.csv= \",N_searches)\n",
    "    input(\"pause\")"
   ]
  }
 ],
 "metadata": {
  "kernelspec": {
   "display_name": "Python 3",
   "language": "python",
   "name": "python3"
  }
 },
 "nbformat": 4,
 "nbformat_minor": 0
}
