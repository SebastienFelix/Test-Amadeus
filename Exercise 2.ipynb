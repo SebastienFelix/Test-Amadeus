{
 "cells": [
  {
   "cell_type": "code",
   "execution_count": null,
   "metadata": {
    "collapsed": true
   },
   "outputs": [],
   "source": [
    "import sys\n",
    "from pyspark import SparkContext\n",
    "\n",
    "def get_arrival_airport(line):\n",
    "\tline_split=line.split(\"^\")\n",
    "\tif len(line_split)<35:\n",
    "\t\tairport=line_split[10]\n",
    "\t\treturn airport.split(\" \")[0]\n",
    "\tairport=line_split[12]\n",
    "\treturn airport.split(\" \")[0]\n",
    "\n",
    "def get_pax(line):\n",
    "\tline_split=line.split(\"^\")\n",
    "\tif len(line_split)<35:\n",
    "\t\treturn int(line_split[len(line_split)-4])\n",
    "\treturn int(line_split[34])\n",
    "\n",
    "def is_valid_line(line):\n",
    "\tline_split=line.split(\"^\")\n",
    "\tif len(line_split)>=35:\n",
    "\t\tif line_split[34].split(\" \")[0]=='pax':\n",
    "\t\t\treturn False\n",
    "\t\telse:\n",
    "\t\t\treturn True\n",
    "\telse:\n",
    "\t\tif line_split[len(line_split)-4].split(\" \")[0]=='pax':\n",
    "\t\t\treturn False\n",
    "\t\telse:\n",
    "\t\t\treturn True\n",
    "    \n",
    "\n",
    "\n",
    "if __name__==\"__main__\":\n",
    "\tif len(sys.argv) < 2:\n",
    "\t\tprint >> sys.stderr, \"Usage: Exercise 2 <file>\"\n",
    "\t\texit(-1)\n",
    "        \n",
    "\tsc=SparkContext()\n",
    "    \n",
    "\tdata=sc.textFile(sys.argv[1])\n",
    "\n",
    "\tdata_filtered=data.filter(lambda line: is_valid_line(line))\n",
    "\n",
    "\tairport_pax=data_filtered.map(lambda line: (get_arrival_airport(line),get_pax(line)))\n",
    "\n",
    "\ttotal_airport_pax=airport_pax.reduceByKey(lambda v1,v2:v1+v2)\n",
    "\n",
    "\tsorted_airports=total_airport_pax.map(lambda data:(data[1],data[0])).sortByKey(ascending=True)\n",
    "\n",
    "\ttop10_airports=sorted_airports.top(10)\n",
    "\n",
    "\tfor i_airport in range(10):\n",
    "\t\tairport=top10_airports[i_airport]\n",
    "\t\tprint(\"Airport \"+str(i_airport+1)+\" : \"+airport[1]+\" with \"+str(airport[0])+\" passengers\")\n",
    "\tinput(\"pause\")"
   ]
  }
 ],
 "metadata": {
  "kernelspec": {
   "display_name": "Python 3",
   "language": "python",
   "name": "python3"
  }
 },
 "nbformat": 4,
 "nbformat_minor": 0
}
